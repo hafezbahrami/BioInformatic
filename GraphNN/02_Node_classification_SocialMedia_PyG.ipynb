{
 "cells": [
  {
   "cell_type": "code",
   "execution_count": 54,
   "id": "90ebfef4",
   "metadata": {},
   "outputs": [],
   "source": [
    "import torch\n",
    "from torch_geometric.data import Data"
   ]
  },
  {
   "cell_type": "code",
   "execution_count": null,
   "id": "5b50e798",
   "metadata": {},
   "outputs": [],
   "source": []
  },
  {
   "cell_type": "markdown",
   "id": "e2bd80f4",
   "metadata": {},
   "source": [
    "# Social Network Graph Dataset\n",
    "\n",
    "### classification = f(x_feature)\n",
    "### classification = f(x_feature=num_of_connected_node_to_each_node)\n",
    "\n",
    "    - It is a social network example, in which Karate club members represented in a Graph\n",
    "    - A social network of a karate club in which Karate club members represented in a Graph\n",
    "    - The network captures 34 members/students of a karate club, documenting 78 links between pairs of members who interacted outside the club. \n",
    "    - Two classes: In the A conflict arose between the administrator \"John A\" and instructor \"Mr. Hi\" (pseudonyms), which led to the split of the club into two.\n",
    "    - the x-feature that is being used to classify the 34 nodes is the # of connections of each node to others ==> G.degree().\n",
    "        - In other words: x_feature = node_degrees\n",
    "    \n",
    "As seen in the graph below, it seems member34 contacted many people. As example, contact for member2 to member8 is shown below:\n",
    "\n",
    "    [2 1]\n",
    "    [3 1] [3 2]\n",
    "    [4 1] [4 2] [4 3]\n",
    "    [5 1]\n",
    "    [6 1]\n",
    "    [7 1] [7 5] [7 6]\n",
    "    [8 1] [8 2] [8 3] [8 4]\n",
    "\n",
    "<img src=\"img\\zachary_karate_graph.png\" width=\"750\" height=\"750\"/>\n"
   ]
  },
  {
   "cell_type": "code",
   "execution_count": null,
   "id": "42185648",
   "metadata": {},
   "outputs": [],
   "source": []
  },
  {
   "cell_type": "markdown",
   "id": "7ca8eea7",
   "metadata": {},
   "source": [
    "# Preprocessing:  \n",
    "Generate numerical representations for each node in the graph (node degree in this case).\n",
    "\n",
    "    - Reading the Karate_club graph data from networkx\n",
    "    - Defining the labels (for each 34 nodes)\n",
    "    - adjacent matrix [in COO sprse format]\n",
    "    - Edge data in COO coordinate (the edge_index)\n",
    "    - x_feature = Embedding ==> Which is the selected and simplest numerical representation of our nodes ==> We actually use the scaled embedding which is the scaled degree of freedom for each node\n",
    "            ==> embeddings = np.array(list( dict(G.degree()).values() )) ==> Simply shows how many connections each node has\n",
    "    - y_label = Two classes:\n",
    "        G.nodes[1] ==> {'club': 'Mr. Hi'}\n",
    "        G.nodes[9] ==> {'club': 'Officer'}\n",
    "    - x_feature [=embedding] and edge_index are useful as input to PyG convloutional layer [this is how the library written]:\n",
    "        self.conv1(x_feature, edge_index)\n",
    "\n",
    "    \n",
    "**Note**: For the numerical representation for nodes, we can use graph properties like degree or use different embedding generation methods like node2vec, DeepWalk etc. In this example, we will be using **node degree as its numerical representation**."
   ]
  },
  {
   "cell_type": "markdown",
   "id": "d0433036",
   "metadata": {},
   "source": [
    "Using COO to save sparse matrix in memory ==> https://matteding.github.io/2019/04/25/sparse-matrices/\n"
   ]
  },
  {
   "cell_type": "code",
   "execution_count": 1,
   "id": "58bbbd65",
   "metadata": {},
   "outputs": [],
   "source": [
    "import networkx as nx\n",
    "import numpy as np\n",
    "import torch\n",
    "from sklearn.preprocessing import StandardScaler\n",
    "\n",
    "# load graph from networkx library\n",
    "G = nx.karate_club_graph()\n",
    "\n",
    "# retrieve the labels for each node ==> convert True/False to 0/1 for a binary classifications\n",
    "labels = np.asarray([G.nodes[i]['club'] != 'Mr. Hi' for i in G.nodes]).astype(np.int64)\n",
    "\n",
    "# print(\"# of nodes: \", G.number_of_nodes())\n",
    "# print(\"nodes in G: \", G.nodes())"
   ]
  },
  {
   "cell_type": "code",
   "execution_count": 2,
   "id": "bc206de5",
   "metadata": {},
   "outputs": [],
   "source": [
    "# create edge index from\n",
    "# good source on how to store a sparse matrix in COO format: ==> https://matteding.github.io/2019/04/25/sparse-matrices/\n",
    "adj = nx.to_scipy_sparse_matrix(G).tocoo() # sparsematrix object in COO coordinate and format\n",
    "\n",
    "rows_idx = adj.row.astype(np.int64) # getting row idx in COO format\n",
    "col_idx = adj.col.astype(np.int64) # getting col idx in COO format\n",
    "\n",
    "rows_idx_torch = torch.from_numpy(rows_idx).to(torch.long)\n",
    "col_idx_torch = torch.from_numpy(col_idx).to(torch.long)\n",
    "\n",
    "edge_index = torch.stack([rows_idx_torch, col_idx_torch], dim=0) # edge idx is simply what node is connected to what node\n",
    "\n",
    "# using degree as embedding ==> basically each node is connected to how many other nodes\n",
    "# print(\"Grapgh degree: \",  dict(G.degree())   )\n",
    "embeddings = np.array(list( dict(G.degree()).values() ))\n",
    "\n",
    "# normalizing degree values\n",
    "scale = StandardScaler()\n",
    "embeddings = scale.fit_transform(embeddings.reshape(-1,1))  # make it N-rows and 1 column"
   ]
  },
  {
   "cell_type": "code",
   "execution_count": null,
   "id": "28509ea5",
   "metadata": {},
   "outputs": [],
   "source": []
  },
  {
   "cell_type": "markdown",
   "id": "a2b847a5",
   "metadata": {},
   "source": [
    "# The PyG Custom Dataset\n",
    "\n",
    "The KarateDataset class inherits from the InMemoryDataset class and use a Data object to collate all information relating to the karate club dataset. The graph data is then split into train and test sets, thereby creating the train and test masks using the splits.\n",
    "\n",
    "The data object contains the following variables:\n",
    "\n",
    "    - \"Data(edge_index=[2, 156], num_nodes=34, x=[34, 1], y=[34], num_classes=2, train_mask=[34], test_mask=[34])\"\n",
    "    - As seen above, the feature vector, x, for each of 34 node is a vector of size 1. It can be a size of m in more complex problems\n",
    "\n",
    "\n",
    "\n",
    "This custom dataset can now be used with **several graph neural network models** from the Pytorch Geometric library. Let’s pick a **Graph Convolutional Network model** and use it to predict the missing labels on the test set.\n",
    "\n",
    "$Note$: PyG library focuses more on _node classification task_ but it can also be used for _link prediction_.\n",
    "\n",
    "Reference: \n",
    "https://pytorch-geometric.readthedocs.io/en/latest/notes/introduction.html#exercises"
   ]
  },
  {
   "cell_type": "code",
   "execution_count": 3,
   "id": "64499735",
   "metadata": {},
   "outputs": [],
   "source": [
    "import torch\n",
    "import pandas as pd\n",
    "from torch_geometric.data import InMemoryDataset, Data\n",
    "from sklearn.model_selection import train_test_split\n",
    "import torch_geometric.transforms as T\n",
    "\n",
    "\n",
    "# PyG custom dataset\n",
    "class KarateDataset(InMemoryDataset):\n",
    "    def __init__(self, transform=None):\n",
    "        super(KarateDataset, self).__init__('.', transform, None, None)\n",
    "\n",
    "        data = Data(edge_index=edge_index)\n",
    "        \n",
    "        data.num_nodes = G.number_of_nodes()\n",
    "        \n",
    "        # embedding = x_feature ==> here for simplicity x_feature for each node = [# of connected nodes]\n",
    "        data.x = torch.from_numpy(embeddings).type(torch.float32)\n",
    "        \n",
    "        # labels\n",
    "        y = torch.from_numpy(labels).type(torch.long)\n",
    "        data.y = y.clone().detach()\n",
    "        \n",
    "        data.num_classes = 2\n",
    "\n",
    "        # splitting the data into train, validation and test\n",
    "        X_feature_only_for_indexing = pd.Series(list(G.nodes())) \n",
    "        y_label = pd.Series(labels)\n",
    "        X_train, X_test, y_train, y_test = train_test_split(X_feature_only_for_indexing, \n",
    "                                                            y_label,\n",
    "                                                            test_size=0.30, \n",
    "                                                            random_state=42)\n",
    "#         print(X_train)\n",
    "#         print(X_train.index)\n",
    "\n",
    "        \n",
    "        n_nodes = G.number_of_nodes()\n",
    "        \n",
    "        # create train and test masks for data\n",
    "        train_mask = torch.zeros(n_nodes, dtype=torch.bool)\n",
    "        test_mask = torch.zeros(n_nodes, dtype=torch.bool)\n",
    "        train_mask[X_train.index] = True\n",
    "        test_mask[X_test.index] = True\n",
    "        data['train_mask'] = train_mask\n",
    "        data['test_mask'] = test_mask\n",
    "#         print(train_mask)\n",
    "#         print(data['train_mask'])\n",
    "\n",
    "        self.data, self.slices = self.collate([data])\n",
    "\n",
    "    def _download(self):\n",
    "        return\n",
    "\n",
    "    def _process(self):\n",
    "        return\n",
    "\n",
    "    def __repr__(self):\n",
    "        return '{}()'.format(self.__class__.__name__)\n",
    "    \n",
    "dataset = KarateDataset()\n",
    "data = dataset[0]"
   ]
  },
  {
   "cell_type": "code",
   "execution_count": 4,
   "id": "1e9ea324",
   "metadata": {},
   "outputs": [
    {
     "data": {
      "text/plain": [
       "Data(edge_index=[2, 156], num_nodes=34, x=[34, 1], y=[34], num_classes=2, train_mask=[34], test_mask=[34])"
      ]
     },
     "execution_count": 4,
     "metadata": {},
     "output_type": "execute_result"
    }
   ],
   "source": [
    "data"
   ]
  },
  {
   "cell_type": "code",
   "execution_count": 5,
   "id": "8fed440c",
   "metadata": {},
   "outputs": [],
   "source": [
    "# print(data.train_mask)\n",
    "# print(data.x) # will print the scaled embedding of size = 34X1\n",
    "# print(data.y) # print labels"
   ]
  },
  {
   "cell_type": "markdown",
   "id": "b7058d57",
   "metadata": {},
   "source": [
    "# Graph Convolutional Network."
   ]
  },
  {
   "cell_type": "code",
   "execution_count": 6,
   "id": "9d105040",
   "metadata": {},
   "outputs": [],
   "source": [
    "import torch.nn as nn\n",
    "import torch.nn.functional as F\n",
    "from torch_geometric.nn import GCNConv\n",
    "\n",
    "# GCN with 2 layers\n",
    "class Net(torch.nn.Module):\n",
    "    def __init__(self):\n",
    "        super(Net,self).__init__()\n",
    "        self.conv1 = GCNConv(data.num_features, 16)\n",
    "        self.conv2 = GCNConv(16, int(data.num_classes))\n",
    "\n",
    "    def forward(self):\n",
    "        x, edge_index = data.x, data.edge_index\n",
    "        \n",
    "        x = self.conv1(x, edge_index)\n",
    "        x = F.relu(x)\n",
    "        x = F.dropout(x, training=self.training)\n",
    "        x = self.conv2(x, edge_index)\n",
    "        return F.log_softmax(x, dim=1)\n",
    "\n",
    "    \n",
    "device = torch.device('cuda' if torch.cuda.is_available() else 'cpu')\n",
    "\n",
    "data =  data.to(device)\n",
    "\n",
    "model = Net().to(device)"
   ]
  },
  {
   "cell_type": "markdown",
   "id": "6d2bd013",
   "metadata": {},
   "source": [
    "# Train the GCN model"
   ]
  },
  {
   "cell_type": "code",
   "execution_count": 7,
   "id": "f1179dfb",
   "metadata": {},
   "outputs": [
    {
     "name": "stdout",
     "output_type": "stream",
     "text": [
      "######################################################################\n",
      "Train Accuracy: 0.782608695652174\n",
      "Test Accuracy: 0.6363636363636364\n",
      "######################################################################\n"
     ]
    }
   ],
   "source": [
    "\n",
    "torch.manual_seed(42)\n",
    "\n",
    "optimizer_name = \"Adam\"\n",
    "lr = 1e-1\n",
    "optimizer = getattr(torch.optim, optimizer_name)(model.parameters(), lr=lr)\n",
    "epochs = 200\n",
    "\n",
    "def train():\n",
    "    model.train()\n",
    "    optimizer.zero_grad()\n",
    "    y_pred = model()[data.train_mask]\n",
    "    y_lable = data.y[data.train_mask] \n",
    "    F.nll_loss(y_pred, y_lable).backward()\n",
    "    optimizer.step()\n",
    "\n",
    "@torch.no_grad()\n",
    "def test():\n",
    "    model.eval()\n",
    "    logits = model()\n",
    "    # for traning set\n",
    "    mask1 = data['train_mask']\n",
    "    pred1 = logits[mask1].max(1)[1]\n",
    "    label1 = data.y[mask1]\n",
    "    acc_train = pred1.eq(label1).sum().item() / mask1.sum().item()\n",
    "    # for test set\n",
    "    mask = data['test_mask']\n",
    "    pred = logits[mask].max(1)[1]\n",
    "    acc_test = pred.eq(data.y[mask]).sum().item() / mask.sum().item()\n",
    "    return acc_train,acc_test\n",
    "\n",
    "for epoch in range(1, epochs):\n",
    "    train()\n",
    "\n",
    "train_acc,test_acc = test()\n",
    "\n",
    "print('#' * 70)\n",
    "print('Train Accuracy: %s' %train_acc )\n",
    "print('Test Accuracy: %s' % test_acc)\n",
    "print('#' * 70)"
   ]
  },
  {
   "cell_type": "code",
   "execution_count": null,
   "id": "88a42631",
   "metadata": {},
   "outputs": [],
   "source": []
  },
  {
   "cell_type": "code",
   "execution_count": null,
   "id": "c955d1a3",
   "metadata": {},
   "outputs": [],
   "source": []
  },
  {
   "cell_type": "markdown",
   "id": "53c62cf9",
   "metadata": {},
   "source": [
    "# Reference:\n",
    "https://towardsdatascience.com/a-beginners-guide-to-graph-neural-networks-using-pytorch-geometric-part-1-d98dc93e7742"
   ]
  },
  {
   "cell_type": "code",
   "execution_count": null,
   "id": "4825e309",
   "metadata": {},
   "outputs": [],
   "source": []
  }
 ],
 "metadata": {
  "kernelspec": {
   "display_name": "Python 3 (ipykernel)",
   "language": "python",
   "name": "python3"
  },
  "language_info": {
   "codemirror_mode": {
    "name": "ipython",
    "version": 3
   },
   "file_extension": ".py",
   "mimetype": "text/x-python",
   "name": "python",
   "nbconvert_exporter": "python",
   "pygments_lexer": "ipython3",
   "version": "3.9.12"
  }
 },
 "nbformat": 4,
 "nbformat_minor": 5
}
